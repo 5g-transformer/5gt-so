{
 "cells": [
  {
   "cell_type": "code",
   "execution_count": 3,
   "metadata": {},
   "outputs": [
    {
     "ename": "ModuleNotFoundError",
     "evalue": "No module named 'hac'",
     "output_type": "error",
     "traceback": [
      "\u001b[0;31m---------------------------------------------------------------------------\u001b[0m",
      "\u001b[0;31mModuleNotFoundError\u001b[0m                       Traceback (most recent call last)",
      "\u001b[0;32m<ipython-input-3-f3a77433c5b3>\u001b[0m in \u001b[0;36m<module>\u001b[0;34m\u001b[0m\n\u001b[1;32m      1\u001b[0m \u001b[0;32mimport\u001b[0m \u001b[0mjson\u001b[0m\u001b[0;34m,\u001b[0m\u001b[0msys\u001b[0m\u001b[0;34m,\u001b[0m\u001b[0mos\u001b[0m\u001b[0;34m\u001b[0m\u001b[0;34m\u001b[0m\u001b[0m\n\u001b[1;32m      2\u001b[0m \u001b[0;32mfrom\u001b[0m \u001b[0mos\u001b[0m\u001b[0;34m.\u001b[0m\u001b[0mpath\u001b[0m \u001b[0;32mimport\u001b[0m \u001b[0mexpanduser\u001b[0m \u001b[0;32mas\u001b[0m \u001b[0meu\u001b[0m\u001b[0;34m\u001b[0m\u001b[0;34m\u001b[0m\u001b[0m\n\u001b[0;32m----> 3\u001b[0;31m \u001b[0;32mfrom\u001b[0m \u001b[0mhac\u001b[0m \u001b[0;32mimport\u001b[0m \u001b[0mGreedyAgglomerativeClusterer\u001b[0m\u001b[0;34m\u001b[0m\u001b[0;34m\u001b[0m\u001b[0m\n\u001b[0m\u001b[1;32m      4\u001b[0m \u001b[0;32mimport\u001b[0m \u001b[0mnetworkx\u001b[0m \u001b[0;32mas\u001b[0m \u001b[0mnx\u001b[0m\u001b[0;34m\u001b[0m\u001b[0;34m\u001b[0m\u001b[0m\n\u001b[1;32m      5\u001b[0m \u001b[0;32mfrom\u001b[0m \u001b[0mcollections\u001b[0m \u001b[0;32mimport\u001b[0m \u001b[0mdefaultdict\u001b[0m\u001b[0;34m\u001b[0m\u001b[0;34m\u001b[0m\u001b[0m\n",
      "\u001b[0;31mModuleNotFoundError\u001b[0m: No module named 'hac'"
     ]
    }
   ],
   "source": [
    "import json,sys,os\n",
    "from os.path import expanduser as eu\n",
    "from hac import GreedyAgglomerativeClusterer\n",
    "import networkx as nx\n",
    "from collections import defaultdict\n",
    "from itertools import combinations"
   ]
  },
  {
   "cell_type": "markdown",
   "metadata": {},
   "source": [
    "# Clustering!\n",
    "In this notebook, we perform the actual clustering. Given an input scenario, we:\n",
    "1. perform all possible clusterings, from 1 to $\\min\\{|\\mathcal{V},|,|\\mathcal{H}|\\}$;\n",
    "2. for each possible clustering, check if a _straightforward_ clustering, where bigger VNF clusters are associated with bigger host clusters, is _prima facie_ feasible.\n",
    "\n",
    "The path of input and output files (both in JSON) are specified as environment variables."
   ]
  },
  {
   "cell_type": "code",
   "execution_count": 29,
   "metadata": {},
   "outputs": [],
   "source": [
    "input_path=os.getenv('INPUT_PATH',eu('test/release2/test_req_sap_vl.json'))\n",
    "output_path=os.getenv('OUTPUT_PATH',eu('test/release2/test_req_sap_cp_cluster_decisions.json'))"
   ]
  },
  {
   "cell_type": "markdown",
   "metadata": {},
   "source": [
    "Before creating a VNF graph, we treat those **SAPs associated to a VL** as a VNF with zero requirements"
   ]
  },
  {
   "cell_type": "code",
   "execution_count": 38,
   "metadata": {},
   "outputs": [],
   "source": [
    "scenario=json.load(open(input_path))\n",
    "i = 0\n",
    "vlSaps = [(s, sIdx) for (s, sIdx) in zip(scenario['nsd']['SAP'],\\\n",
    "                        range(len(scenario['nsd']['SAP'])))]\\\n",
    "            if 'SAP' in scenario['nsd'] else [] # Maybe no SAPs\n",
    "vlSaps = list(filter(lambda (s, sIdx): 'VNFLink' in s and s['VNFLink'] != '', vlSaps))\n",
    "\n",
    "for (sap, sapIdx) in vlSaps:\n",
    "    # Find the associated VNFLink\n",
    "    vnfLink = [vl for vl in scenario['nsd']['VNFLinks'] if vl['id'] == sap['VNFLink']][0]\n",
    "    sapVNF = {\n",
    "        'VNFid': 'sap_' + vnfLink['id'],\n",
    "        'SAPidx': sapIdx,\n",
    "        'instances': 1,\n",
    "        'requirements': {'cpu': 0, 'ram': 0, 'storage': 0},\n",
    "        'failure_rate': 0,\n",
    "        'processing_latency': 0,\n",
    "        'CP': [{\n",
    "            'cpId': 'sap_' + vnfLink['id'],\n",
    "            'VNFLink': vnfLink\n",
    "        }]\n",
    "    }\n",
    "    scenario['nsd']['VNFs'].append(sapVNF)\n",
    "    i += 1"
   ]
  },
  {
   "cell_type": "markdown",
   "metadata": {},
   "source": [
    "Now, we build two graphs, one for VNFs and one for VNF. Weights are:\n",
    "* for the VNF graph, the traffic between VNFs;\n",
    "* for the host graph, the capacity of links."
   ]
  },
  {
   "cell_type": "code",
   "execution_count": 40,
   "metadata": {},
   "outputs": [],
   "source": [
    "vnf_graph=nx.Graph()\n",
    "for vl in scenario['nsd']['VNFLinks']:\n",
    "    # Search VNFs connected to vl\n",
    "    connected_vnfs = []\n",
    "    for vnf in scenario['nsd']['VNFs']:\n",
    "        linked_cps = [cp for cp in vnf['CP']\\\n",
    "                      if 'VNFLink' in cp and cp['VNFLink']['id'] == vl['id']]\n",
    "        if len(linked_cps) > 0:\n",
    "            connected_vnfs.append(vnf['VNFid'])\n",
    "\n",
    "    # Add all pairs VNF1---vl---VNF2\n",
    "    for VNFe in list(combinations(connected_vnfs, 2)):\n",
    "        vnf_graph.add_edge(VNFe[0],VNFe[1],weight=vl['required_capacity'])\n",
    "\n",
    "host_graph=nx.Graph()\n",
    "for e in scenario['nfvi']['LLs']:\n",
    "    host_graph.add_edge(e['source']['id'],e['destination']['id'],weight=e['capacity']['total'])\n",
    "\n",
    "max_n=min(len(host_graph),len(vnf_graph))"
   ]
  },
  {
   "cell_type": "markdown",
   "metadata": {},
   "source": [
    "We now have the two graphs (note that the library does not support directed graphs!) and the maximum number ``max_n`` of clusters to try. We can now compute the two dendograms (VNF and host)."
   ]
  },
  {
   "cell_type": "code",
   "execution_count": 41,
   "metadata": {},
   "outputs": [],
   "source": [
    "clusterer=GreedyAgglomerativeClusterer()\n",
    "dendo_vnf=clusterer.cluster(vnf_graph)\n",
    "dendo_host=clusterer.cluster(host_graph)"
   ]
  },
  {
   "cell_type": "markdown",
   "metadata": {},
   "source": [
    "Now, for every value of $n$, we know which cluster each VNF and host belongs to. We write this information in the ``scenario`` data structure."
   ]
  },
  {
   "cell_type": "code",
   "execution_count": 42,
   "metadata": {},
   "outputs": [
    {
     "name": "stderr",
     "output_type": "stream",
     "text": [
      "number of clusters is 1\n",
      "  host A belongs to cluster no. 1\n",
      "  host C belongs to cluster no. 1\n",
      "  host B belongs to cluster no. 1\n",
      "  host E belongs to cluster no. 1\n",
      "  host D belongs to cluster no. 1\n",
      "  host F belongs to cluster no. 1\n",
      "  VNF v1 belongs to cluster no. 1\n",
      "  VNF v2 belongs to cluster no. 1\n",
      "  VNF v3 belongs to cluster no. 1\n",
      "  VNF sap0 belongs to cluster no. 1\n",
      "  VNF v4 belongs to cluster no. 1\n",
      "number of clusters is 2\n",
      "  host A belongs to cluster no. 1\n",
      "  host C belongs to cluster no. 2\n",
      "  host B belongs to cluster no. 1\n",
      "  host E belongs to cluster no. 1\n",
      "  host D belongs to cluster no. 2\n",
      "  host F belongs to cluster no. 1\n",
      "  VNF v1 belongs to cluster no. 1\n",
      "  VNF v2 belongs to cluster no. 1\n",
      "  VNF v3 belongs to cluster no. 2\n",
      "  VNF sap0 belongs to cluster no. 1\n",
      "  VNF v4 belongs to cluster no. 2\n",
      "number of clusters is 3\n",
      "  host A belongs to cluster no. 1\n",
      "  host C belongs to cluster no. 2\n",
      "  host B belongs to cluster no. 1\n",
      "  host E belongs to cluster no. 3\n",
      "  host D belongs to cluster no. 2\n",
      "  host F belongs to cluster no. 1\n",
      "  VNF v1 belongs to cluster no. 2\n",
      "  VNF v2 belongs to cluster no. 2\n",
      "  VNF v3 belongs to cluster no. 1\n",
      "  VNF sap0 belongs to cluster no. 3\n",
      "  VNF v4 belongs to cluster no. 1\n",
      "number of clusters is 4\n",
      "  host A belongs to cluster no. 2\n",
      "  host C belongs to cluster no. 1\n",
      "  host B belongs to cluster no. 2\n",
      "  host E belongs to cluster no. 4\n",
      "  host D belongs to cluster no. 1\n",
      "  host F belongs to cluster no. 3\n",
      "  VNF v1 belongs to cluster no. 1\n",
      "  VNF v2 belongs to cluster no. 1\n",
      "  VNF v3 belongs to cluster no. 3\n",
      "  VNF sap0 belongs to cluster no. 4\n",
      "  VNF v4 belongs to cluster no. 2\n",
      "number of clusters is 5\n",
      "  host A belongs to cluster no. 1\n",
      "  host C belongs to cluster no. 4\n",
      "  host B belongs to cluster no. 1\n",
      "  host E belongs to cluster no. 5\n",
      "  host D belongs to cluster no. 2\n",
      "  host F belongs to cluster no. 3\n",
      "  VNF v1 belongs to cluster no. 4\n",
      "  VNF v2 belongs to cluster no. 5\n",
      "  VNF v3 belongs to cluster no. 3\n",
      "  VNF sap0 belongs to cluster no. 2\n",
      "  VNF v4 belongs to cluster no. 1\n"
     ]
    }
   ],
   "source": [
    "scenario['clustering_decisions']=[]\n",
    "for n in range(1,max_n+1):\n",
    "    this_decision={'no_clusters':n,'assignment_hosts':{},'assignment_vnfs':{}}\n",
    "    print>>sys.stderr,'number of clusters is',n\n",
    "    for h in host_graph:\n",
    "        c_id=[i for i in range(n) if h in dendo_host.clusters(n)[i]][0]\n",
    "        print>>sys.stderr,'  host',h,'belongs to cluster no.',c_id+1\n",
    "        this_decision['assignment_hosts'][h]='host_cluster_'+str(c_id+1)\n",
    "    for v in vnf_graph:\n",
    "        c_id=[i for i in range(n) if v in dendo_vnf.clusters(n)[i]][0]\n",
    "        print>>sys.stderr,'  VNF',v,'belongs to cluster no.',c_id+1\n",
    "        this_decision['assignment_vnfs'][v]='vnf_cluster_'+str(c_id+1)\n",
    "    # We do not check feasibility\n",
    "    # this_decision['prima_facie_feasible']=prima_facie_feasible(dendo_host.clusters(n),dendo_vnf.clusters(n))\n",
    "    scenario['clustering_decisions'].append(this_decision)"
   ]
  },
  {
   "cell_type": "code",
   "execution_count": 43,
   "metadata": {},
   "outputs": [
    {
     "data": {
      "text/plain": [
       "[{'assignment_hosts': {u'A': 'host_cluster_1',\n",
       "   u'B': 'host_cluster_1',\n",
       "   u'C': 'host_cluster_1',\n",
       "   u'D': 'host_cluster_1',\n",
       "   u'E': 'host_cluster_1',\n",
       "   u'F': 'host_cluster_1'},\n",
       "  'assignment_vnfs': {'sap0': 'vnf_cluster_1',\n",
       "   u'v1': 'vnf_cluster_1',\n",
       "   u'v2': 'vnf_cluster_1',\n",
       "   u'v3': 'vnf_cluster_1',\n",
       "   u'v4': 'vnf_cluster_1'},\n",
       "  'no_clusters': 1},\n",
       " {'assignment_hosts': {u'A': 'host_cluster_1',\n",
       "   u'B': 'host_cluster_1',\n",
       "   u'C': 'host_cluster_2',\n",
       "   u'D': 'host_cluster_2',\n",
       "   u'E': 'host_cluster_1',\n",
       "   u'F': 'host_cluster_1'},\n",
       "  'assignment_vnfs': {'sap0': 'vnf_cluster_1',\n",
       "   u'v1': 'vnf_cluster_1',\n",
       "   u'v2': 'vnf_cluster_1',\n",
       "   u'v3': 'vnf_cluster_2',\n",
       "   u'v4': 'vnf_cluster_2'},\n",
       "  'no_clusters': 2},\n",
       " {'assignment_hosts': {u'A': 'host_cluster_1',\n",
       "   u'B': 'host_cluster_1',\n",
       "   u'C': 'host_cluster_2',\n",
       "   u'D': 'host_cluster_2',\n",
       "   u'E': 'host_cluster_3',\n",
       "   u'F': 'host_cluster_1'},\n",
       "  'assignment_vnfs': {'sap0': 'vnf_cluster_3',\n",
       "   u'v1': 'vnf_cluster_2',\n",
       "   u'v2': 'vnf_cluster_2',\n",
       "   u'v3': 'vnf_cluster_1',\n",
       "   u'v4': 'vnf_cluster_1'},\n",
       "  'no_clusters': 3},\n",
       " {'assignment_hosts': {u'A': 'host_cluster_2',\n",
       "   u'B': 'host_cluster_2',\n",
       "   u'C': 'host_cluster_1',\n",
       "   u'D': 'host_cluster_1',\n",
       "   u'E': 'host_cluster_4',\n",
       "   u'F': 'host_cluster_3'},\n",
       "  'assignment_vnfs': {'sap0': 'vnf_cluster_4',\n",
       "   u'v1': 'vnf_cluster_1',\n",
       "   u'v2': 'vnf_cluster_1',\n",
       "   u'v3': 'vnf_cluster_3',\n",
       "   u'v4': 'vnf_cluster_2'},\n",
       "  'no_clusters': 4},\n",
       " {'assignment_hosts': {u'A': 'host_cluster_1',\n",
       "   u'B': 'host_cluster_1',\n",
       "   u'C': 'host_cluster_4',\n",
       "   u'D': 'host_cluster_2',\n",
       "   u'E': 'host_cluster_5',\n",
       "   u'F': 'host_cluster_3'},\n",
       "  'assignment_vnfs': {'sap0': 'vnf_cluster_2',\n",
       "   u'v1': 'vnf_cluster_4',\n",
       "   u'v2': 'vnf_cluster_5',\n",
       "   u'v3': 'vnf_cluster_3',\n",
       "   u'v4': 'vnf_cluster_1'},\n",
       "  'no_clusters': 5}]"
      ]
     },
     "execution_count": 43,
     "metadata": {},
     "output_type": "execute_result"
    }
   ],
   "source": [
    "scenario['clustering_decisions']"
   ]
  },
  {
   "cell_type": "markdown",
   "metadata": {},
   "source": [
    "Now we can save our output file, i.e., a version of the scenario including the ``clustering_decisions`` data structure."
   ]
  },
  {
   "cell_type": "code",
   "execution_count": 36,
   "metadata": {},
   "outputs": [],
   "source": [
    "with open(output_path,'w') as fp:\n",
    "    json.dump(scenario,fp,indent=2)"
   ]
  }
 ],
 "metadata": {
  "kernelspec": {
   "display_name": "Python 2",
   "language": "python",
   "name": "python2"
  },
  "language_info": {
   "codemirror_mode": {
    "name": "ipython",
    "version": 3
   },
   "file_extension": ".py",
   "mimetype": "text/x-python",
   "name": "python",
   "nbconvert_exporter": "python",
   "pygments_lexer": "ipython3",
   "version": "3.7.3"
  }
 },
 "nbformat": 4,
 "nbformat_minor": 2
}
