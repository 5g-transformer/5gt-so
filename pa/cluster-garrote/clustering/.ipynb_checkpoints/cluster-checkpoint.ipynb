{
 "cells": [
  {
   "cell_type": "code",
   "execution_count": 3,
   "metadata": {},
   "outputs": [],
   "source": [
    "import json,sys,os\n",
    "from os.path import expanduser as eu\n",
    "from hac import GreedyAgglomerativeClusterer\n",
    "import networkx as nx\n",
    "from collections import defaultdict"
   ]
  },
  {
   "cell_type": "markdown",
   "metadata": {},
   "source": [
    "# Clustering!\n",
    "In this notebook, we perform the actual clustering. Given an input scenario, we:\n",
    "1. perform all possible clusterings, from 1 to $\\min\\{|\\mathcal{V},|,|\\mathcal{H}|\\}$;\n",
    "2. for each possible clustering, check if a _straightforward_ clustering, where bigger VNF clusters are associated with bigger host clusters, is _prima facie_ feasible.\n",
    "\n",
    "The path of input and output files (both in JSON) are specified as environment variables."
   ]
  },
  {
   "cell_type": "code",
   "execution_count": 14,
   "metadata": {},
   "outputs": [],
   "source": [
    "input_path=os.getenv('INPUT_PATH',eu('test/release1/test_req_simple_graps.json'))\n",
    "output_path=os.getenv('OUTPUT_PATH',eu('test/release1/test_req_simple_cluster_decisions.json'))"
   ]
  },
  {
   "cell_type": "markdown",
   "metadata": {},
   "source": [
    "First things first, we build two graphs, one for VNFs and one for VNF. Weights are:\n",
    "* for the VNF graph, the traffic between VNFs;\n",
    "* for the host graph, the capacity of links."
   ]
  },
  {
   "cell_type": "code",
   "execution_count": 10,
   "metadata": {},
   "outputs": [],
   "source": [
    "scenario=json.load(open(input_path))\n",
    "\n",
    "vnf_graph=nx.Graph()\n",
    "for e in scenario['nsd']['VNFLinks']:\n",
    "    vnf_graph.add_edge(e['source'],e['destination'],weight=e['required_capacity'])\n",
    "\n",
    "host_graph=nx.Graph()\n",
    "for e in scenario['nfvi']['LLs']:\n",
    "    host_graph.add_edge(e['source']['id'],e['destination']['id'],weight=e['capacity']['total'])\n",
    "\n",
    "max_n=min(len(host_graph),len(vnf_graph))"
   ]
  },
  {
   "cell_type": "markdown",
   "metadata": {},
   "source": [
    "We now have the two graphs (note that the library does not support directed graphs!) and the maximum number ``max_n`` of clusters to try. We can now compute the two dendograms (VNF and host)."
   ]
  },
  {
   "cell_type": "code",
   "execution_count": 11,
   "metadata": {},
   "outputs": [],
   "source": [
    "clusterer=GreedyAgglomerativeClusterer()\n",
    "dendo_vnf=clusterer.cluster(vnf_graph)\n",
    "dendo_host=clusterer.cluster(host_graph)"
   ]
  },
  {
   "cell_type": "markdown",
   "metadata": {},
   "source": [
    "Now, for every value of $n$, we know which cluster each VNF and host belongs to. We write this information in the ``scenario`` data structure."
   ]
  },
  {
   "cell_type": "code",
   "execution_count": 12,
   "metadata": {},
   "outputs": [
    {
     "name": "stderr",
     "output_type": "stream",
     "text": [
      "number of clusters is 1\n",
      "  host A belongs to cluster no. 1\n",
      "  host C belongs to cluster no. 1\n",
      "  host B belongs to cluster no. 1\n",
      "  host E belongs to cluster no. 1\n",
      "  host D belongs to cluster no. 1\n",
      "  host F belongs to cluster no. 1\n",
      "  VNF v1 belongs to cluster no. 1\n",
      "  VNF v2 belongs to cluster no. 1\n",
      "  VNF v3 belongs to cluster no. 1\n",
      "  VNF v4 belongs to cluster no. 1\n",
      "number of clusters is 2\n",
      "  host A belongs to cluster no. 2\n",
      "  host C belongs to cluster no. 1\n",
      "  host B belongs to cluster no. 2\n",
      "  host E belongs to cluster no. 1\n",
      "  host D belongs to cluster no. 1\n",
      "  host F belongs to cluster no. 1\n",
      "  VNF v1 belongs to cluster no. 2\n",
      "  VNF v2 belongs to cluster no. 2\n",
      "  VNF v3 belongs to cluster no. 1\n",
      "  VNF v4 belongs to cluster no. 1\n",
      "number of clusters is 3\n",
      "  host A belongs to cluster no. 2\n",
      "  host C belongs to cluster no. 1\n",
      "  host B belongs to cluster no. 2\n",
      "  host E belongs to cluster no. 3\n",
      "  host D belongs to cluster no. 1\n",
      "  host F belongs to cluster no. 1\n",
      "  VNF v1 belongs to cluster no. 1\n",
      "  VNF v2 belongs to cluster no. 1\n",
      "  VNF v3 belongs to cluster no. 2\n",
      "  VNF v4 belongs to cluster no. 3\n",
      "number of clusters is 4\n",
      "  host A belongs to cluster no. 2\n",
      "  host C belongs to cluster no. 1\n",
      "  host B belongs to cluster no. 2\n",
      "  host E belongs to cluster no. 4\n",
      "  host D belongs to cluster no. 3\n",
      "  host F belongs to cluster no. 1\n",
      "  VNF v1 belongs to cluster no. 3\n",
      "  VNF v2 belongs to cluster no. 4\n",
      "  VNF v3 belongs to cluster no. 2\n",
      "  VNF v4 belongs to cluster no. 1\n"
     ]
    }
   ],
   "source": [
    "scenario['clustering_decisions']=[]\n",
    "for n in range(1,max_n+1):\n",
    "    this_decision={'no_clusters':n,'assignment_hosts':{},'assignment_vnfs':{}}\n",
    "    print>>sys.stderr,'number of clusters is',n\n",
    "    for h in host_graph:\n",
    "        c_id=[i for i in range(n) if h in dendo_host.clusters(n)[i]][0]\n",
    "        print>>sys.stderr,'  host',h,'belongs to cluster no.',c_id+1\n",
    "        this_decision['assignment_hosts'][h]='host_cluster_'+str(c_id+1)\n",
    "    for v in vnf_graph:\n",
    "        c_id=[i for i in range(n) if v in dendo_vnf.clusters(n)[i]][0]\n",
    "        print>>sys.stderr,'  VNF',v,'belongs to cluster no.',c_id+1\n",
    "        this_decision['assignment_vnfs'][v]='vnf_cluster_'+str(c_id+1)\n",
    "    # We do not check feasibility\n",
    "    # this_decision['prima_facie_feasible']=prima_facie_feasible(dendo_host.clusters(n),dendo_vnf.clusters(n))\n",
    "    scenario['clustering_decisions'].append(this_decision)"
   ]
  },
  {
   "cell_type": "code",
   "execution_count": 13,
   "metadata": {},
   "outputs": [
    {
     "data": {
      "text/plain": [
       "[{'assignment_hosts': {u'A': 'host_cluster_1',\n",
       "   u'B': 'host_cluster_1',\n",
       "   u'C': 'host_cluster_1',\n",
       "   u'D': 'host_cluster_1',\n",
       "   u'E': 'host_cluster_1',\n",
       "   u'F': 'host_cluster_1'},\n",
       "  'assignment_vnfs': {u'v1': 'vnf_cluster_1',\n",
       "   u'v2': 'vnf_cluster_1',\n",
       "   u'v3': 'vnf_cluster_1',\n",
       "   u'v4': 'vnf_cluster_1'},\n",
       "  'no_clusters': 1},\n",
       " {'assignment_hosts': {u'A': 'host_cluster_2',\n",
       "   u'B': 'host_cluster_2',\n",
       "   u'C': 'host_cluster_1',\n",
       "   u'D': 'host_cluster_1',\n",
       "   u'E': 'host_cluster_1',\n",
       "   u'F': 'host_cluster_1'},\n",
       "  'assignment_vnfs': {u'v1': 'vnf_cluster_2',\n",
       "   u'v2': 'vnf_cluster_2',\n",
       "   u'v3': 'vnf_cluster_1',\n",
       "   u'v4': 'vnf_cluster_1'},\n",
       "  'no_clusters': 2},\n",
       " {'assignment_hosts': {u'A': 'host_cluster_2',\n",
       "   u'B': 'host_cluster_2',\n",
       "   u'C': 'host_cluster_1',\n",
       "   u'D': 'host_cluster_1',\n",
       "   u'E': 'host_cluster_3',\n",
       "   u'F': 'host_cluster_1'},\n",
       "  'assignment_vnfs': {u'v1': 'vnf_cluster_1',\n",
       "   u'v2': 'vnf_cluster_1',\n",
       "   u'v3': 'vnf_cluster_2',\n",
       "   u'v4': 'vnf_cluster_3'},\n",
       "  'no_clusters': 3},\n",
       " {'assignment_hosts': {u'A': 'host_cluster_2',\n",
       "   u'B': 'host_cluster_2',\n",
       "   u'C': 'host_cluster_1',\n",
       "   u'D': 'host_cluster_3',\n",
       "   u'E': 'host_cluster_4',\n",
       "   u'F': 'host_cluster_1'},\n",
       "  'assignment_vnfs': {u'v1': 'vnf_cluster_3',\n",
       "   u'v2': 'vnf_cluster_4',\n",
       "   u'v3': 'vnf_cluster_2',\n",
       "   u'v4': 'vnf_cluster_1'},\n",
       "  'no_clusters': 4}]"
      ]
     },
     "execution_count": 13,
     "metadata": {},
     "output_type": "execute_result"
    }
   ],
   "source": [
    "scenario['clustering_decisions']"
   ]
  },
  {
   "cell_type": "markdown",
   "metadata": {},
   "source": [
    "Now we can save our output file, i.e., a version of the scenario including the ``clustering_decisions`` data structure."
   ]
  },
  {
   "cell_type": "code",
   "execution_count": 15,
   "metadata": {},
   "outputs": [],
   "source": [
    "with open(output_path,'w') as fp:\n",
    "    json.dump(scenario,fp,indent=2)"
   ]
  }
 ],
 "metadata": {
  "kernelspec": {
   "display_name": "Python 2",
   "language": "python",
   "name": "python2"
  },
  "language_info": {
   "codemirror_mode": {
    "name": "ipython",
    "version": 2
   },
   "file_extension": ".py",
   "mimetype": "text/x-python",
   "name": "python",
   "nbconvert_exporter": "python",
   "pygments_lexer": "ipython2",
   "version": "2.7.15"
  }
 },
 "nbformat": 4,
 "nbformat_minor": 2
}
